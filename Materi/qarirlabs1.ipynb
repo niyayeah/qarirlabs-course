{
  "nbformat": 4,
  "nbformat_minor": 0,
  "metadata": {
    "colab": {
      "provenance": [],
      "collapsed_sections": [
        "HwSSck-NdxFL",
        "F3c5uMK-oVXu",
        "qhQyGRj7tjx1",
        "UrGNhy3b7OwP",
        "XszRiZqHd1Cg"
      ]
    },
    "kernelspec": {
      "name": "python3",
      "display_name": "Python 3"
    },
    "language_info": {
      "name": "python"
    }
  },
  "cells": [
    {
      "cell_type": "markdown",
      "source": [
        "#Pertemuan 2\n",
        "- Belajar tipe data\n",
        "- variabel\n",
        "- operator\n",
        "- input"
      ],
      "metadata": {
        "id": "HwSSck-NdxFL"
      }
    },
    {
      "cell_type": "markdown",
      "source": [
        "##Belajar Tipe data"
      ],
      "metadata": {
        "id": "ahmBOaIOenk-"
      }
    },
    {
      "cell_type": "code",
      "execution_count": null,
      "metadata": {
        "colab": {
          "base_uri": "https://localhost:8080/"
        },
        "id": "c43yOdM3YjjX",
        "outputId": "29d48fa3-f8ce-4be7-e0ef-9b14ebdfa527"
      },
      "outputs": [
        {
          "output_type": "stream",
          "name": "stdout",
          "text": [
            "10\n"
          ]
        }
      ],
      "source": [
        "print(10)"
      ]
    },
    {
      "cell_type": "code",
      "source": [
        "1 > 2"
      ],
      "metadata": {
        "colab": {
          "base_uri": "https://localhost:8080/"
        },
        "id": "B11cTDE_gbr7",
        "outputId": "6b11ceb7-22b8-42e9-c01c-f795bfac1f09"
      },
      "execution_count": null,
      "outputs": [
        {
          "output_type": "execute_result",
          "data": {
            "text/plain": [
              "False"
            ]
          },
          "metadata": {},
          "execution_count": 9
        }
      ]
    },
    {
      "cell_type": "code",
      "source": [
        "type(10)"
      ],
      "metadata": {
        "colab": {
          "base_uri": "https://localhost:8080/"
        },
        "id": "caWro1uXjTRN",
        "outputId": "928d9643-a828-4cc4-b31e-a7241611aab2"
      },
      "execution_count": null,
      "outputs": [
        {
          "output_type": "execute_result",
          "data": {
            "text/plain": [
              "int"
            ]
          },
          "metadata": {},
          "execution_count": 1
        }
      ]
    },
    {
      "cell_type": "code",
      "source": [
        "#tipe data list\n",
        "\n",
        "print(['dinia', 10, 3,14])"
      ],
      "metadata": {
        "colab": {
          "base_uri": "https://localhost:8080/"
        },
        "id": "O0alxEt8hGnB",
        "outputId": "bb3066d6-07c6-479f-b5c4-540ce9c6d46c"
      },
      "execution_count": null,
      "outputs": [
        {
          "output_type": "stream",
          "name": "stdout",
          "text": [
            "['dinia', 10, 3, 14]\n"
          ]
        }
      ]
    },
    {
      "cell_type": "code",
      "source": [
        "#tipe data tuple \n",
        "\n",
        "print(('fahmi', 10, 3.14))"
      ],
      "metadata": {
        "colab": {
          "base_uri": "https://localhost:8080/"
        },
        "id": "qOZi2tw-l1nq",
        "outputId": "89b9cd61-4d3e-4979-b0fa-8e2b20f565da"
      },
      "execution_count": null,
      "outputs": [
        {
          "output_type": "stream",
          "name": "stdout",
          "text": [
            "('fahmi', 10, 3.14)\n"
          ]
        }
      ]
    },
    {
      "cell_type": "code",
      "source": [
        "type(('fahmi', 10, 3.14))"
      ],
      "metadata": {
        "colab": {
          "base_uri": "https://localhost:8080/"
        },
        "id": "ziCvpqn-mB2G",
        "outputId": "7dbaa50b-0aba-406b-b96b-7db7ed118e91"
      },
      "execution_count": null,
      "outputs": [
        {
          "output_type": "execute_result",
          "data": {
            "text/plain": [
              "tuple"
            ]
          },
          "metadata": {},
          "execution_count": 5
        }
      ]
    },
    {
      "cell_type": "code",
      "source": [
        "#tipe data set\n",
        "\n",
        "print({'python','php', 'c++', 'python'})\n",
        "type({'python','php', 'c++', 'python'})"
      ],
      "metadata": {
        "colab": {
          "base_uri": "https://localhost:8080/"
        },
        "id": "Atrx3qNgmHPZ",
        "outputId": "efb7445d-0e26-4397-a91c-dd1d5fab5ee5"
      },
      "execution_count": null,
      "outputs": [
        {
          "output_type": "stream",
          "name": "stdout",
          "text": [
            "{'python', 'c++', 'php'}\n"
          ]
        },
        {
          "output_type": "execute_result",
          "data": {
            "text/plain": [
              "set"
            ]
          },
          "metadata": {},
          "execution_count": 6
        }
      ]
    },
    {
      "cell_type": "code",
      "source": [
        "print(frozenset({'python','php', 'c++', 'python'}))\n",
        "type(frozenset({'python','php', 'c++', 'python'}))\n"
      ],
      "metadata": {
        "colab": {
          "base_uri": "https://localhost:8080/"
        },
        "id": "ECEBdkiJmXfU",
        "outputId": "4b40a272-5797-4993-aacc-c223d0ebf09a"
      },
      "execution_count": null,
      "outputs": [
        {
          "output_type": "stream",
          "name": "stdout",
          "text": [
            "frozenset({'python', 'c++', 'php'})\n"
          ]
        },
        {
          "output_type": "execute_result",
          "data": {
            "text/plain": [
              "frozenset"
            ]
          },
          "metadata": {},
          "execution_count": 9
        }
      ]
    },
    {
      "cell_type": "code",
      "source": [
        "# tipe data dictionary terdiri dari key:values\n",
        "\n",
        "print({'nama':'fahmi'})\n",
        "type({'nama':'fahmi'})"
      ],
      "metadata": {
        "colab": {
          "base_uri": "https://localhost:8080/"
        },
        "id": "hRhBzjHMmreN",
        "outputId": "ec64872f-2e0b-4431-d5b3-c00e9d58466f"
      },
      "execution_count": null,
      "outputs": [
        {
          "output_type": "stream",
          "name": "stdout",
          "text": [
            "{'nama': 'fahmi'}\n"
          ]
        },
        {
          "output_type": "execute_result",
          "data": {
            "text/plain": [
              "dict"
            ]
          },
          "metadata": {},
          "execution_count": 10
        }
      ]
    },
    {
      "cell_type": "code",
      "source": [
        "#type data json seperti dict untuk membuat tabel\n",
        "print({'nama': ['fahmi', 'dinia'], \n",
        "       'usia': [20, 21]})\n"
      ],
      "metadata": {
        "colab": {
          "base_uri": "https://localhost:8080/"
        },
        "id": "6eJGSP6wnQpY",
        "outputId": "3fb1d7aa-04a8-44de-d0a0-00c2d13cbff6"
      },
      "execution_count": null,
      "outputs": [
        {
          "output_type": "stream",
          "name": "stdout",
          "text": [
            "{'nama': ['fahmi', 'dinia'], 'usia': [20, 21]}\n"
          ]
        }
      ]
    },
    {
      "cell_type": "markdown",
      "source": [
        "##Variabel"
      ],
      "metadata": {
        "id": "F3c5uMK-oVXu"
      }
    },
    {
      "cell_type": "code",
      "source": [
        "nama = 'dinia'\n",
        "nama"
      ],
      "metadata": {
        "colab": {
          "base_uri": "https://localhost:8080/",
          "height": 35
        },
        "id": "mDkcEPLooBsU",
        "outputId": "36b12614-65ec-42bb-de31-a764797a2bb8"
      },
      "execution_count": null,
      "outputs": [
        {
          "output_type": "execute_result",
          "data": {
            "text/plain": [
              "'dinia'"
            ],
            "application/vnd.google.colaboratory.intrinsic+json": {
              "type": "string"
            }
          },
          "metadata": {},
          "execution_count": 16
        }
      ]
    },
    {
      "cell_type": "code",
      "source": [
        "usia = 25\n",
        "usia"
      ],
      "metadata": {
        "colab": {
          "base_uri": "https://localhost:8080/"
        },
        "id": "6PH23YiNqRYi",
        "outputId": "9662da16-13eb-4411-847c-2eb68dc8c644"
      },
      "execution_count": null,
      "outputs": [
        {
          "output_type": "execute_result",
          "data": {
            "text/plain": [
              "25"
            ]
          },
          "metadata": {},
          "execution_count": 14
        }
      ]
    },
    {
      "cell_type": "code",
      "source": [
        "print('nama saya', nama, 'dan usia saya', usia)"
      ],
      "metadata": {
        "colab": {
          "base_uri": "https://localhost:8080/"
        },
        "id": "geJeDatbqpMd",
        "outputId": "086bf21c-eccf-4e58-8768-e671051418f6"
      },
      "execution_count": null,
      "outputs": [
        {
          "output_type": "stream",
          "name": "stdout",
          "text": [
            "nama saya dinia dan usia saya 25\n"
          ]
        }
      ]
    },
    {
      "cell_type": "code",
      "source": [
        "print(type(nama))\n",
        "print(type(usia))"
      ],
      "metadata": {
        "colab": {
          "base_uri": "https://localhost:8080/"
        },
        "id": "WvS4sxQSq1qX",
        "outputId": "813f1bbe-1db4-439d-ec9d-055d69227570"
      },
      "execution_count": null,
      "outputs": [
        {
          "output_type": "stream",
          "name": "stdout",
          "text": [
            "<class 'str'>\n",
            "<class 'int'>\n"
          ]
        }
      ]
    },
    {
      "cell_type": "code",
      "source": [
        "#variabel dengan tipe data list\n",
        "nama = ['dini', 'fahmi', 'kadek', 'david']\n",
        "print(\"halo\", nama[2])"
      ],
      "metadata": {
        "colab": {
          "base_uri": "https://localhost:8080/"
        },
        "id": "orOEsstvrQu1",
        "outputId": "f3244900-f9d5-47df-f8df-3f15c1ff1777"
      },
      "execution_count": null,
      "outputs": [
        {
          "output_type": "stream",
          "name": "stdout",
          "text": [
            "halo kadek\n"
          ]
        }
      ]
    },
    {
      "cell_type": "code",
      "source": [
        "print(\"halo\", nama[-1])"
      ],
      "metadata": {
        "colab": {
          "base_uri": "https://localhost:8080/"
        },
        "id": "cUpJjkWIr2fp",
        "outputId": "6d0bc98f-4777-4c14-bcb2-c939039107bd"
      },
      "execution_count": null,
      "outputs": [
        {
          "output_type": "stream",
          "name": "stdout",
          "text": [
            "halo david\n"
          ]
        }
      ]
    },
    {
      "cell_type": "markdown",
      "source": [
        "## Input\n"
      ],
      "metadata": {
        "id": "qhQyGRj7tjx1"
      }
    },
    {
      "cell_type": "code",
      "source": [
        "nama = input('siapa nama kamu? ')"
      ],
      "metadata": {
        "colab": {
          "base_uri": "https://localhost:8080/"
        },
        "id": "GjhsOToXsHA2",
        "outputId": "1a0f39df-bc2f-4021-c464-b361ade1f4cc"
      },
      "execution_count": null,
      "outputs": [
        {
          "name": "stdout",
          "output_type": "stream",
          "text": [
            "siapa nama kamu? dinia\n"
          ]
        }
      ]
    },
    {
      "cell_type": "code",
      "source": [
        "nama"
      ],
      "metadata": {
        "colab": {
          "base_uri": "https://localhost:8080/",
          "height": 35
        },
        "id": "Pma4aZGqtvO1",
        "outputId": "59378044-7f2c-4b6f-f161-942d8c5daa20"
      },
      "execution_count": null,
      "outputs": [
        {
          "output_type": "execute_result",
          "data": {
            "text/plain": [
              "'dinia'"
            ],
            "application/vnd.google.colaboratory.intrinsic+json": {
              "type": "string"
            }
          },
          "metadata": {},
          "execution_count": 22
        }
      ]
    },
    {
      "cell_type": "code",
      "source": [
        "angka = input('angka kesukaan? ')"
      ],
      "metadata": {
        "colab": {
          "base_uri": "https://localhost:8080/"
        },
        "id": "8pzgSSABt7Kb",
        "outputId": "c201e286-472a-47b5-af12-4306033c4eea"
      },
      "execution_count": null,
      "outputs": [
        {
          "name": "stdout",
          "output_type": "stream",
          "text": [
            "angka kesukaan? 17\n"
          ]
        }
      ]
    },
    {
      "cell_type": "code",
      "source": [
        "type(angka)"
      ],
      "metadata": {
        "colab": {
          "base_uri": "https://localhost:8080/"
        },
        "id": "-iwmtRznuR9V",
        "outputId": "09708d9c-8dc4-4895-9b16-4d94c764700d"
      },
      "execution_count": null,
      "outputs": [
        {
          "output_type": "execute_result",
          "data": {
            "text/plain": [
              "str"
            ]
          },
          "metadata": {},
          "execution_count": 24
        }
      ]
    },
    {
      "cell_type": "code",
      "source": [
        "#untuk inputan bisa menjadi int?\n",
        "angka = int(input('angka kesukaan?'))"
      ],
      "metadata": {
        "colab": {
          "base_uri": "https://localhost:8080/"
        },
        "id": "Of2sPgG0uVei",
        "outputId": "4d1988e2-5d08-4878-c6e7-be3444be59c6"
      },
      "execution_count": null,
      "outputs": [
        {
          "name": "stdout",
          "output_type": "stream",
          "text": [
            "angka kesukaan?17\n"
          ]
        }
      ]
    },
    {
      "cell_type": "code",
      "source": [
        "type(angka)"
      ],
      "metadata": {
        "colab": {
          "base_uri": "https://localhost:8080/"
        },
        "id": "Hl9kmQhJuiKT",
        "outputId": "7fcff86e-8959-4d37-a5ba-49d7276be370"
      },
      "execution_count": null,
      "outputs": [
        {
          "output_type": "execute_result",
          "data": {
            "text/plain": [
              "int"
            ]
          },
          "metadata": {},
          "execution_count": 26
        }
      ]
    },
    {
      "cell_type": "code",
      "source": [
        "a = int(input('input angka ='))\n",
        "b = int(input('input angka ='))"
      ],
      "metadata": {
        "colab": {
          "base_uri": "https://localhost:8080/"
        },
        "id": "MLa-NdgzulUj",
        "outputId": "0ad84d34-9a2a-4970-eddb-3da6cea18724"
      },
      "execution_count": null,
      "outputs": [
        {
          "name": "stdout",
          "output_type": "stream",
          "text": [
            "input angka =2\n",
            "input angka =3\n"
          ]
        }
      ]
    },
    {
      "cell_type": "code",
      "source": [
        "a+b"
      ],
      "metadata": {
        "colab": {
          "base_uri": "https://localhost:8080/"
        },
        "id": "In4nMAI4u0kK",
        "outputId": "6feadf52-ae99-43ee-8028-72bc5f83655f"
      },
      "execution_count": null,
      "outputs": [
        {
          "output_type": "execute_result",
          "data": {
            "text/plain": [
              "5"
            ]
          },
          "metadata": {},
          "execution_count": 28
        }
      ]
    },
    {
      "cell_type": "code",
      "source": [],
      "metadata": {
        "id": "rZL6cNA53VLb"
      },
      "execution_count": null,
      "outputs": []
    },
    {
      "cell_type": "code",
      "source": [
        "angka1 = int(input('masukkan angka: '))\n",
        "angka2 = int(input('masukkan angka: '))\n",
        "hasil = angka1 * angka2"
      ],
      "metadata": {
        "colab": {
          "base_uri": "https://localhost:8080/"
        },
        "id": "tNfUh03yu6BB",
        "outputId": "ca80e9cd-9960-4f4c-8b3e-70a96a237877"
      },
      "execution_count": null,
      "outputs": [
        {
          "name": "stdout",
          "output_type": "stream",
          "text": [
            "masukkan angka: 1\n",
            "masukkan angka: 2\n"
          ]
        }
      ]
    },
    {
      "cell_type": "code",
      "source": [
        "print(angka1, angka2)"
      ],
      "metadata": {
        "colab": {
          "base_uri": "https://localhost:8080/"
        },
        "id": "l45gINHxx9ag",
        "outputId": "506e988e-1e9c-4077-b07a-63d5714c8a5b"
      },
      "execution_count": null,
      "outputs": [
        {
          "output_type": "stream",
          "name": "stdout",
          "text": [
            "1 2\n"
          ]
        }
      ]
    },
    {
      "cell_type": "markdown",
      "source": [
        "#Pertemuan 3. 16 oktober 22\n",
        "\n",
        "- if elif else\n",
        "- while\n",
        "- logika"
      ],
      "metadata": {
        "id": "UrGNhy3b7OwP"
      }
    },
    {
      "cell_type": "code",
      "source": [
        "uang = int(input('berapa uang km?'))\n",
        "\n",
        "if uang >= 10000:\n",
        "  print('kamu berhasil membeli 1 porsi bakso. kembalian km senilai', uang-10000)\n",
        "else:\n",
        "  print('uang kamu tidak cukup untuk membeli 1 porsi bakso')"
      ],
      "metadata": {
        "id": "jRS3Hd_my8SE",
        "colab": {
          "base_uri": "https://localhost:8080/"
        },
        "outputId": "6a7b977d-75a0-411a-ec93-b7d524c65cd2"
      },
      "execution_count": null,
      "outputs": [
        {
          "output_type": "stream",
          "name": "stdout",
          "text": [
            "berapa uang km?10000\n",
            "kamu berhasil membeli 1 porsi bakso. kembalian km senilai 0\n"
          ]
        }
      ]
    },
    {
      "cell_type": "code",
      "source": [
        "kondisi = input('cuaca hari ini?')\n",
        "\n",
        "if kondisi == 'cerah':\n",
        "  print('bermain')\n",
        "elif kondisi == 'mendung':\n",
        "  print('bermain futsal')\n",
        "elif kondisi == 'hujan':\n",
        "  print('tidak bermain')\n",
        "else:\n",
        "  print('kondisi tidak dikenali')"
      ],
      "metadata": {
        "colab": {
          "base_uri": "https://localhost:8080/"
        },
        "id": "9ee9yGV-8JtX",
        "outputId": "505ac43a-6065-44c1-b935-61bdbbdf0ab6"
      },
      "execution_count": null,
      "outputs": [
        {
          "output_type": "stream",
          "name": "stdout",
          "text": [
            "cuaca hari ini?bsdhfl\n",
            "kondisi tidak dikenali\n"
          ]
        }
      ]
    },
    {
      "cell_type": "code",
      "source": [
        "nilai = int(input('nilai mhs:'))\n",
        "if nilai >= 85 and nilai  <=100:\n",
        "  print(\"A\")\n",
        "elif nilai >=75 and nilai <=100:\n",
        "  print(\"B\")\n",
        "elif nilai >=65 and nilai <=100:\n",
        "  print(\"C\")\n",
        "elif nilai >=50 and nilai <=100:\n",
        "  print(\"D\")\n",
        "elif nilai >=40 and nilai <=100:\n",
        "  print(\"E\")\n",
        "elif nilai <40 and nilai <=100:\n",
        "  print('kamu mengulang krn nilai kamu dibawah 40')\n",
        "else:\n",
        "  print('nilai tidak valid')"
      ],
      "metadata": {
        "colab": {
          "base_uri": "https://localhost:8080/"
        },
        "id": "6-BuGZ019Fqo",
        "outputId": "ed14bae3-c93f-4808-d7c7-244eb2aa64f8"
      },
      "execution_count": null,
      "outputs": [
        {
          "output_type": "stream",
          "name": "stdout",
          "text": [
            "nilai mhs:100\n",
            "A\n"
          ]
        }
      ]
    },
    {
      "cell_type": "code",
      "source": [
        "cuaca = input('cuaca hari ini?')\n",
        "pemain = int(input('ada berapa pemain?'))\n",
        "\n",
        "if cuaca == 'cerah' and pemain >=10:\n",
        "  print('bermain')\n",
        "elif cuaca == 'hujan' and pemain <=10:\n",
        "  print('tidak bermain')\n",
        "elif cuaca == 'mendung' and pemain <=10:\n",
        "  print('bermain futsal')\n",
        "else:\n",
        "  print('tidak diketahui')"
      ],
      "metadata": {
        "colab": {
          "base_uri": "https://localhost:8080/"
        },
        "id": "K1Bu_3tECHM0",
        "outputId": "4590b488-ef27-4a9c-ff47-4f66e29adea5"
      },
      "execution_count": null,
      "outputs": [
        {
          "output_type": "stream",
          "name": "stdout",
          "text": [
            "cuaca hari ini?mendung\n",
            "ada berapa pemain?10\n",
            "bermain futsal\n"
          ]
        }
      ]
    },
    {
      "cell_type": "markdown",
      "source": [],
      "metadata": {
        "id": "1pxBGK_5dyZG"
      }
    },
    {
      "cell_type": "markdown",
      "source": [
        "#Pertemuan 4. oktober 20 2022\n",
        "- segitiga \n",
        "- tipe data list\n",
        "- perulangan for "
      ],
      "metadata": {
        "id": "XszRiZqHd1Cg"
      }
    },
    {
      "cell_type": "code",
      "source": [
        "#sisi bawah = a\n",
        "#sisi kanan = b\n",
        "#sisi kiri = c\n",
        "\n",
        "a=int(input('a='))\n",
        "b=int(input('b='))\n",
        "c=int(input('c='))\n",
        "\n",
        "\n",
        "if a == b == c:\n",
        "  print('ini segitiga sama sisi')\n",
        "else:\n",
        "  print('ini bukan segitiga sama sisi')\n",
        " \n"
      ],
      "metadata": {
        "colab": {
          "base_uri": "https://localhost:8080/"
        },
        "id": "CcRythlUd-Qa",
        "outputId": "7f17c467-f430-4538-daa2-031d7ad03a86"
      },
      "execution_count": null,
      "outputs": [
        {
          "output_type": "stream",
          "name": "stdout",
          "text": [
            "a=1\n",
            "b=1\n",
            "c=2\n",
            "ini bukan segitiga sama sisi\n"
          ]
        }
      ]
    },
    {
      "cell_type": "code",
      "source": [
        "#segitiga sama kaki\n",
        "#siku2\n",
        "#sembarang\n",
        "\n",
        "a=int(input('a='))\n",
        "b=int(input('b='))\n",
        "c=int(input('c='))\n",
        "\n",
        "if (a and b and c) != 0:\n",
        "  if c == b and a!= (b and c):\n",
        "    print('ini segitiga sama kaki')\n",
        "  elif a != b != c:\n",
        "    print('ini segitiga sembarang')\n",
        "  elif ((a**2 + b**2) == c**2):\n",
        "    print('ini segitiga siku')\n",
        "  else:\n",
        "    print('ini bukan segitiga sama sisi')\n",
        "else:\n",
        "  print('ini bukan segitiga')"
      ],
      "metadata": {
        "colab": {
          "base_uri": "https://localhost:8080/"
        },
        "id": "VFskLF6ufYSr",
        "outputId": "1bc62201-cf15-4657-c0c0-31f814c8f791"
      },
      "execution_count": null,
      "outputs": [
        {
          "output_type": "stream",
          "name": "stdout",
          "text": [
            "a=1\n",
            "b=2\n",
            "c=2\n",
            "ini segitiga sama kaki\n"
          ]
        }
      ]
    },
    {
      "cell_type": "markdown",
      "source": [
        "###tipe data list"
      ],
      "metadata": {
        "id": "2XXazFdQpfjU"
      }
    },
    {
      "cell_type": "code",
      "source": [
        "kota = ['jkt', 'bdg', 'medan', 'sby']\n",
        "kota"
      ],
      "metadata": {
        "colab": {
          "base_uri": "https://localhost:8080/"
        },
        "id": "_lkjKkx0fJ9Z",
        "outputId": "a297409a-8944-47bf-f9b0-95a2651567e8"
      },
      "execution_count": null,
      "outputs": [
        {
          "output_type": "execute_result",
          "data": {
            "text/plain": [
              "['jkt', 'bdg', 'medan', 'sby']"
            ]
          },
          "metadata": {},
          "execution_count": 7
        }
      ]
    },
    {
      "cell_type": "code",
      "source": [
        "#append untuk menambahkan data ke list terakhir\n",
        "kota.append('solo')"
      ],
      "metadata": {
        "id": "F277hDfvfNAz"
      },
      "execution_count": null,
      "outputs": []
    },
    {
      "cell_type": "code",
      "source": [
        "kota"
      ],
      "metadata": {
        "colab": {
          "base_uri": "https://localhost:8080/"
        },
        "id": "JfY3_Igtqh8y",
        "outputId": "5da61d53-1311-4752-dc9a-41ea3701212e"
      },
      "execution_count": null,
      "outputs": [
        {
          "output_type": "execute_result",
          "data": {
            "text/plain": [
              "['jkt', 'bdg', 'medan', 'sby', 'solo']"
            ]
          },
          "metadata": {},
          "execution_count": 9
        }
      ]
    },
    {
      "cell_type": "code",
      "source": [
        "kota_baru = 'jogja'\n",
        "kota.append(kota_baru)"
      ],
      "metadata": {
        "id": "fP2oZPeHqi7C"
      },
      "execution_count": null,
      "outputs": []
    },
    {
      "cell_type": "code",
      "source": [
        "kota"
      ],
      "metadata": {
        "colab": {
          "base_uri": "https://localhost:8080/"
        },
        "id": "kYpvPwpmq2YX",
        "outputId": "a2905924-b192-4310-8c9b-699c2b16cd28"
      },
      "execution_count": null,
      "outputs": [
        {
          "output_type": "execute_result",
          "data": {
            "text/plain": [
              "['jkt', 'bdg', 'medan', 'sby', 'solo', 'jogja']"
            ]
          },
          "metadata": {},
          "execution_count": 11
        }
      ]
    },
    {
      "cell_type": "code",
      "source": [
        "#extend untuk menambahkan banyak data di list\n",
        "kota.extend(('asahan', 'cimahi'))"
      ],
      "metadata": {
        "id": "bz3fIciKq38-"
      },
      "execution_count": null,
      "outputs": []
    },
    {
      "cell_type": "code",
      "source": [
        "kota"
      ],
      "metadata": {
        "colab": {
          "base_uri": "https://localhost:8080/"
        },
        "id": "qBjAtLRFrJUT",
        "outputId": "2b4b6514-d099-4cc7-aac1-0481e7fb5d86"
      },
      "execution_count": null,
      "outputs": [
        {
          "output_type": "execute_result",
          "data": {
            "text/plain": [
              "['jkt', 'bdg', 'medan', 'sby', 'solo', 'jogja', 'asahan', 'cimahi']"
            ]
          },
          "metadata": {},
          "execution_count": 13
        }
      ]
    },
    {
      "cell_type": "code",
      "source": [
        "type(kota)"
      ],
      "metadata": {
        "colab": {
          "base_uri": "https://localhost:8080/"
        },
        "id": "AKwbWSNIrKmM",
        "outputId": "048d28a8-e01e-4561-f0b1-1594030e80bb"
      },
      "execution_count": null,
      "outputs": [
        {
          "output_type": "execute_result",
          "data": {
            "text/plain": [
              "list"
            ]
          },
          "metadata": {},
          "execution_count": 14
        }
      ]
    },
    {
      "cell_type": "code",
      "source": [
        "#untuk mengetahui jumlah data dari variabel yang ada\n",
        "len(kota)"
      ],
      "metadata": {
        "colab": {
          "base_uri": "https://localhost:8080/"
        },
        "id": "q3TUS4JgrowV",
        "outputId": "26654850-29b3-44c6-97fb-19e129fcdb15"
      },
      "execution_count": null,
      "outputs": [
        {
          "output_type": "execute_result",
          "data": {
            "text/plain": [
              "8"
            ]
          },
          "metadata": {},
          "execution_count": 15
        }
      ]
    },
    {
      "cell_type": "code",
      "source": [
        "#edit , mengubah data list berdasarkan index\n",
        "kota[0]\n",
        "\n",
        "kota[0]='malang'"
      ],
      "metadata": {
        "id": "k5DSCGjEsVHt"
      },
      "execution_count": null,
      "outputs": []
    },
    {
      "cell_type": "code",
      "source": [
        "kota"
      ],
      "metadata": {
        "colab": {
          "base_uri": "https://localhost:8080/"
        },
        "id": "ZVOh1SPbslMf",
        "outputId": "4e710923-6b3f-42de-c8bd-d3aa63b902c7"
      },
      "execution_count": null,
      "outputs": [
        {
          "output_type": "execute_result",
          "data": {
            "text/plain": [
              "['malang', 'bdg', 'medan', 'sby', 'solo', 'jogja', 'asahan', 'cimahi']"
            ]
          },
          "metadata": {},
          "execution_count": 18
        }
      ]
    },
    {
      "cell_type": "code",
      "source": [
        "#remove adalah cara untuk menghapus data list\n",
        "kota.remove(kota[-1])"
      ],
      "metadata": {
        "id": "Ox4yZFUUssp6"
      },
      "execution_count": null,
      "outputs": []
    },
    {
      "cell_type": "code",
      "source": [
        "kota"
      ],
      "metadata": {
        "colab": {
          "base_uri": "https://localhost:8080/"
        },
        "id": "no_CRQ2LtlGu",
        "outputId": "8a642486-487a-4f90-dbba-b1e0a364e796"
      },
      "execution_count": null,
      "outputs": [
        {
          "output_type": "execute_result",
          "data": {
            "text/plain": [
              "['malang', 'bdg', 'medan', 'sby', 'solo', 'jogja', 'asahan']"
            ]
          },
          "metadata": {},
          "execution_count": 20
        }
      ]
    },
    {
      "cell_type": "code",
      "source": [
        "kota.clear()"
      ],
      "metadata": {
        "id": "FiBWDE-qtmqv"
      },
      "execution_count": null,
      "outputs": []
    },
    {
      "cell_type": "code",
      "source": [
        "kota"
      ],
      "metadata": {
        "colab": {
          "base_uri": "https://localhost:8080/"
        },
        "id": "2Kd-rPbfuIkE",
        "outputId": "65f11627-46ce-429c-e2c9-b8016e03dd8b"
      },
      "execution_count": null,
      "outputs": [
        {
          "output_type": "execute_result",
          "data": {
            "text/plain": [
              "[]"
            ]
          },
          "metadata": {},
          "execution_count": 22
        }
      ]
    },
    {
      "cell_type": "markdown",
      "source": [
        "###looping"
      ],
      "metadata": {
        "id": "8vbM0bKyuckW"
      }
    },
    {
      "cell_type": "code",
      "source": [
        "kota = ['jkt', 'bdg', 'medan', 'sby']\n",
        "kota"
      ],
      "metadata": {
        "colab": {
          "base_uri": "https://localhost:8080/"
        },
        "id": "COs-UaSEuJhd",
        "outputId": "f13662dc-c3ff-4eb9-b338-cfdf1d30bed1"
      },
      "execution_count": null,
      "outputs": [
        {
          "output_type": "execute_result",
          "data": {
            "text/plain": [
              "['jkt', 'bdg', 'medan', 'sby']"
            ]
          },
          "metadata": {},
          "execution_count": 23
        }
      ]
    },
    {
      "cell_type": "code",
      "source": [
        "for nama_kota in kota:\n",
        "  print(nama_kota)"
      ],
      "metadata": {
        "colab": {
          "base_uri": "https://localhost:8080/"
        },
        "id": "ktZx_Qxfuotf",
        "outputId": "a7d6a7c6-8035-4507-adc7-f73f9ca26dad"
      },
      "execution_count": null,
      "outputs": [
        {
          "output_type": "stream",
          "name": "stdout",
          "text": [
            "jkt\n",
            "bdg\n",
            "medan\n",
            "sby\n"
          ]
        }
      ]
    },
    {
      "cell_type": "code",
      "source": [
        "#enumerate untuk mencari index dari suatu data\n",
        "for x,y in enumerate(kota):\n",
        "  print(x,y)"
      ],
      "metadata": {
        "colab": {
          "base_uri": "https://localhost:8080/"
        },
        "id": "Z8i7vEDnuscY",
        "outputId": "8c47a586-b7c8-42d6-930a-f5ac4d2dadf2"
      },
      "execution_count": null,
      "outputs": [
        {
          "output_type": "stream",
          "name": "stdout",
          "text": [
            "0 jkt\n",
            "1 bdg\n",
            "2 medan\n",
            "3 sby\n"
          ]
        }
      ]
    },
    {
      "cell_type": "code",
      "source": [
        "for i in kota:\n",
        "  if i=='medan':\n",
        "    break\n",
        "\n",
        "  print(i)"
      ],
      "metadata": {
        "colab": {
          "base_uri": "https://localhost:8080/"
        },
        "id": "trLI3YHAvPGs",
        "outputId": "e0cf0f21-7b0e-4237-d5f7-3045b9e0d465"
      },
      "execution_count": null,
      "outputs": [
        {
          "output_type": "stream",
          "name": "stdout",
          "text": [
            "jkt\n",
            "bdg\n"
          ]
        }
      ]
    },
    {
      "cell_type": "code",
      "source": [
        "#medan lanjutkan ke step berikutnya\n",
        "for i in kota:\n",
        "  if i=='medan':\n",
        "    continue\n",
        "  print(i)"
      ],
      "metadata": {
        "colab": {
          "base_uri": "https://localhost:8080/"
        },
        "id": "Hi6h5fjHvk3b",
        "outputId": "a13dfa2b-cf7d-4240-c0f1-ee329387e1f1"
      },
      "execution_count": null,
      "outputs": [
        {
          "output_type": "stream",
          "name": "stdout",
          "text": [
            "jkt\n",
            "bdg\n",
            "sby\n"
          ]
        }
      ]
    },
    {
      "cell_type": "code",
      "source": [
        "kota.extend(('medan','medan'))\n",
        "kota"
      ],
      "metadata": {
        "colab": {
          "base_uri": "https://localhost:8080/"
        },
        "id": "Mm-lOl5AyD-P",
        "outputId": "ee9d213c-b13c-4894-9716-8494b959bb7c"
      },
      "execution_count": null,
      "outputs": [
        {
          "output_type": "execute_result",
          "data": {
            "text/plain": [
              "['jkt', 'bdg', 'medan', 'sby', 'medan', 'medan']"
            ]
          },
          "metadata": {},
          "execution_count": 34
        }
      ]
    },
    {
      "cell_type": "code",
      "source": [
        "cari_kota = input('masukan kota yg mau dicari index nya')\n",
        "\n",
        "for x,y in enumerate(kota):\n",
        "  if y == cari_kota:\n",
        "    print('kota yg km cari berada di index', x)\n",
        "    break\n",
        "else:\n",
        "  print('kota yg km cari tidak ada')"
      ],
      "metadata": {
        "colab": {
          "base_uri": "https://localhost:8080/"
        },
        "id": "B6Q7ljkTwFYs",
        "outputId": "f8d2339a-b2af-44b4-bc39-f16d6a3ab00b"
      },
      "execution_count": null,
      "outputs": [
        {
          "output_type": "stream",
          "name": "stdout",
          "text": [
            "masukan kota yg mau dicari index nyamedan\n",
            "kota yg km cari berada di index 2\n"
          ]
        }
      ]
    },
    {
      "cell_type": "code",
      "source": [
        "#kalau memiliki value yg sama\n",
        "cari_kota = input('masukan kota yg mau dicari index nya')\n",
        "\n",
        "for x,y in enumerate(kota):\n",
        "  if y == cari_kota:\n",
        "    print('kota yg km cari berada di index', x)"
      ],
      "metadata": {
        "colab": {
          "base_uri": "https://localhost:8080/"
        },
        "id": "DpgwS6LswjwA",
        "outputId": "60f4db38-a03b-41b0-f152-395ca7ed170f"
      },
      "execution_count": null,
      "outputs": [
        {
          "output_type": "stream",
          "name": "stdout",
          "text": [
            "masukan kota yg mau dicari index nyamedan\n",
            "kota yg km cari berada di index 2\n",
            "kota yg km cari berada di index 4\n",
            "kota yg km cari berada di index 5\n"
          ]
        }
      ]
    },
    {
      "cell_type": "code",
      "source": [
        "for i in range(100):\n",
        "  print('perulangan ke-', i)"
      ],
      "metadata": {
        "colab": {
          "base_uri": "https://localhost:8080/"
        },
        "id": "RO5vUwE3yK7g",
        "outputId": "607ed2c1-ac02-4059-8e20-df90014afe48"
      },
      "execution_count": null,
      "outputs": [
        {
          "output_type": "stream",
          "name": "stdout",
          "text": [
            "perulangan ke- 0\n",
            "perulangan ke- 1\n",
            "perulangan ke- 2\n",
            "perulangan ke- 3\n",
            "perulangan ke- 4\n",
            "perulangan ke- 5\n",
            "perulangan ke- 6\n",
            "perulangan ke- 7\n",
            "perulangan ke- 8\n",
            "perulangan ke- 9\n",
            "perulangan ke- 10\n",
            "perulangan ke- 11\n",
            "perulangan ke- 12\n",
            "perulangan ke- 13\n",
            "perulangan ke- 14\n",
            "perulangan ke- 15\n",
            "perulangan ke- 16\n",
            "perulangan ke- 17\n",
            "perulangan ke- 18\n",
            "perulangan ke- 19\n",
            "perulangan ke- 20\n",
            "perulangan ke- 21\n",
            "perulangan ke- 22\n",
            "perulangan ke- 23\n",
            "perulangan ke- 24\n",
            "perulangan ke- 25\n",
            "perulangan ke- 26\n",
            "perulangan ke- 27\n",
            "perulangan ke- 28\n",
            "perulangan ke- 29\n",
            "perulangan ke- 30\n",
            "perulangan ke- 31\n",
            "perulangan ke- 32\n",
            "perulangan ke- 33\n",
            "perulangan ke- 34\n",
            "perulangan ke- 35\n",
            "perulangan ke- 36\n",
            "perulangan ke- 37\n",
            "perulangan ke- 38\n",
            "perulangan ke- 39\n",
            "perulangan ke- 40\n",
            "perulangan ke- 41\n",
            "perulangan ke- 42\n",
            "perulangan ke- 43\n",
            "perulangan ke- 44\n",
            "perulangan ke- 45\n",
            "perulangan ke- 46\n",
            "perulangan ke- 47\n",
            "perulangan ke- 48\n",
            "perulangan ke- 49\n",
            "perulangan ke- 50\n",
            "perulangan ke- 51\n",
            "perulangan ke- 52\n",
            "perulangan ke- 53\n",
            "perulangan ke- 54\n",
            "perulangan ke- 55\n",
            "perulangan ke- 56\n",
            "perulangan ke- 57\n",
            "perulangan ke- 58\n",
            "perulangan ke- 59\n",
            "perulangan ke- 60\n",
            "perulangan ke- 61\n",
            "perulangan ke- 62\n",
            "perulangan ke- 63\n",
            "perulangan ke- 64\n",
            "perulangan ke- 65\n",
            "perulangan ke- 66\n",
            "perulangan ke- 67\n",
            "perulangan ke- 68\n",
            "perulangan ke- 69\n",
            "perulangan ke- 70\n",
            "perulangan ke- 71\n",
            "perulangan ke- 72\n",
            "perulangan ke- 73\n",
            "perulangan ke- 74\n",
            "perulangan ke- 75\n",
            "perulangan ke- 76\n",
            "perulangan ke- 77\n",
            "perulangan ke- 78\n",
            "perulangan ke- 79\n",
            "perulangan ke- 80\n",
            "perulangan ke- 81\n",
            "perulangan ke- 82\n",
            "perulangan ke- 83\n",
            "perulangan ke- 84\n",
            "perulangan ke- 85\n",
            "perulangan ke- 86\n",
            "perulangan ke- 87\n",
            "perulangan ke- 88\n",
            "perulangan ke- 89\n",
            "perulangan ke- 90\n",
            "perulangan ke- 91\n",
            "perulangan ke- 92\n",
            "perulangan ke- 93\n",
            "perulangan ke- 94\n",
            "perulangan ke- 95\n",
            "perulangan ke- 96\n",
            "perulangan ke- 97\n",
            "perulangan ke- 98\n",
            "perulangan ke- 99\n"
          ]
        }
      ]
    },
    {
      "cell_type": "code",
      "source": [
        "for i in range(20, 30):\n",
        "  print('perulangan ke-', i)"
      ],
      "metadata": {
        "colab": {
          "base_uri": "https://localhost:8080/"
        },
        "id": "I9rnkeINybhm",
        "outputId": "70ed8e13-0340-4f12-c3b6-ca97b3be172a"
      },
      "execution_count": null,
      "outputs": [
        {
          "output_type": "stream",
          "name": "stdout",
          "text": [
            "perulangan ke- 20\n",
            "perulangan ke- 21\n",
            "perulangan ke- 22\n",
            "perulangan ke- 23\n",
            "perulangan ke- 24\n",
            "perulangan ke- 25\n",
            "perulangan ke- 26\n",
            "perulangan ke- 27\n",
            "perulangan ke- 28\n",
            "perulangan ke- 29\n"
          ]
        }
      ]
    },
    {
      "cell_type": "code",
      "source": [
        "# range(2, 100, 2) start, stop, state. range menentukan batasan yg akan ditentukan \n",
        "for i in range(2, 10, 2):\n",
        "  print(i)"
      ],
      "metadata": {
        "colab": {
          "base_uri": "https://localhost:8080/"
        },
        "id": "4EZtvA9uypYm",
        "outputId": "58216145-6bc9-46fa-82f4-3a97bb90796e"
      },
      "execution_count": null,
      "outputs": [
        {
          "output_type": "stream",
          "name": "stdout",
          "text": [
            "2\n",
            "4\n",
            "6\n",
            "8\n"
          ]
        }
      ]
    },
    {
      "cell_type": "code",
      "source": [],
      "metadata": {
        "id": "wlJf6hR5zAs4"
      },
      "execution_count": null,
      "outputs": []
    },
    {
      "cell_type": "markdown",
      "source": [
        "#PERTEMUAN 5. 23 oktober 2022\n",
        "- function\n",
        "- built-in function\n",
        "- anonymous function"
      ],
      "metadata": {
        "id": "D46HOWByA3CT"
      }
    },
    {
      "cell_type": "code",
      "source": [
        "#Function def\n",
        "def keliling_lingk():\n",
        "  k = 2 * 3.14 * 2\n",
        "  \n",
        "  return k"
      ],
      "metadata": {
        "id": "-bIEvfZFBIpo"
      },
      "execution_count": null,
      "outputs": []
    },
    {
      "cell_type": "code",
      "source": [
        "keliling_lingk()"
      ],
      "metadata": {
        "colab": {
          "base_uri": "https://localhost:8080/"
        },
        "id": "yRxc3VzXCXtJ",
        "outputId": "aa1a306d-27d4-4c7d-d90b-dcbcbbc89381"
      },
      "execution_count": null,
      "outputs": [
        {
          "output_type": "execute_result",
          "data": {
            "text/plain": [
              "12.56"
            ]
          },
          "metadata": {},
          "execution_count": 2
        }
      ]
    },
    {
      "cell_type": "code",
      "source": [
        "type(keliling_lingk())"
      ],
      "metadata": {
        "colab": {
          "base_uri": "https://localhost:8080/"
        },
        "id": "DPwTktrbCknw",
        "outputId": "99135229-713e-43e7-c943-d2cc16b5c1db"
      },
      "execution_count": null,
      "outputs": [
        {
          "output_type": "execute_result",
          "data": {
            "text/plain": [
              "float"
            ]
          },
          "metadata": {},
          "execution_count": 3
        }
      ]
    },
    {
      "cell_type": "code",
      "source": [
        "def keliling_lingk2(r):\n",
        "  k = 2 * 3.14 * r\n",
        "  \n",
        "  return k"
      ],
      "metadata": {
        "id": "e_nk59PKC2HX"
      },
      "execution_count": null,
      "outputs": []
    },
    {
      "cell_type": "code",
      "source": [
        "keliling_lingk2(2)"
      ],
      "metadata": {
        "colab": {
          "base_uri": "https://localhost:8080/"
        },
        "id": "-KuggM8hDO1h",
        "outputId": "1f12831e-2062-47ac-f7be-ccd10d1c7054"
      },
      "execution_count": null,
      "outputs": [
        {
          "output_type": "execute_result",
          "data": {
            "text/plain": [
              "12.56"
            ]
          },
          "metadata": {},
          "execution_count": 7
        }
      ]
    },
    {
      "cell_type": "code",
      "source": [
        "keliling_lingk2(2) +25"
      ],
      "metadata": {
        "colab": {
          "base_uri": "https://localhost:8080/"
        },
        "id": "XiuXopm4DRBr",
        "outputId": "f4d214ad-aea8-4da4-aa09-b899deea8ceb"
      },
      "execution_count": null,
      "outputs": [
        {
          "output_type": "execute_result",
          "data": {
            "text/plain": [
              "37.56"
            ]
          },
          "metadata": {},
          "execution_count": 8
        }
      ]
    },
    {
      "cell_type": "code",
      "source": [
        "def keliling_lingk3(r):\n",
        "  k = 2 * 3.14 * r\n",
        "  \n",
        "  print(k)"
      ],
      "metadata": {
        "id": "M-FEqy0vDqPC"
      },
      "execution_count": null,
      "outputs": []
    },
    {
      "cell_type": "code",
      "source": [
        "keliling_lingk3(2)"
      ],
      "metadata": {
        "colab": {
          "base_uri": "https://localhost:8080/"
        },
        "id": "F54BEi8UD8vk",
        "outputId": "ef5530ef-6013-49cf-ee21-26fb7630de98"
      },
      "execution_count": null,
      "outputs": [
        {
          "output_type": "stream",
          "name": "stdout",
          "text": [
            "12.56\n"
          ]
        }
      ]
    },
    {
      "cell_type": "code",
      "source": [
        "#keliling_lingk3(2) + 25 \n",
        "#tipe data nya nontype "
      ],
      "metadata": {
        "id": "aK3NkV16D__A"
      },
      "execution_count": null,
      "outputs": []
    },
    {
      "cell_type": "code",
      "source": [
        "type(keliling_lingk3(2))"
      ],
      "metadata": {
        "colab": {
          "base_uri": "https://localhost:8080/"
        },
        "id": "zTSGSlymECjh",
        "outputId": "0f9c3949-0990-40a6-c158-a2c715e40367"
      },
      "execution_count": null,
      "outputs": [
        {
          "output_type": "stream",
          "name": "stdout",
          "text": [
            "12.56\n"
          ]
        },
        {
          "output_type": "execute_result",
          "data": {
            "text/plain": [
              "NoneType"
            ]
          },
          "metadata": {},
          "execution_count": 15
        }
      ]
    },
    {
      "cell_type": "code",
      "source": [
        "#default dan non-default\n",
        "def keliling_lingk4(r, phi=3.14):\n",
        "  k = 2 * phi * r\n",
        "  \n",
        "  return k"
      ],
      "metadata": {
        "id": "mbMnaf-rERUt"
      },
      "execution_count": null,
      "outputs": []
    },
    {
      "cell_type": "code",
      "source": [
        "keliling_lingk4(2)"
      ],
      "metadata": {
        "colab": {
          "base_uri": "https://localhost:8080/"
        },
        "id": "sC1juGV2EqQz",
        "outputId": "bfd0ccf5-3c12-4a13-ed3c-284b86395e9a"
      },
      "execution_count": null,
      "outputs": [
        {
          "output_type": "execute_result",
          "data": {
            "text/plain": [
              "12.56"
            ]
          },
          "metadata": {},
          "execution_count": 20
        }
      ]
    },
    {
      "cell_type": "code",
      "source": [
        "#variabel global dan lokal\n",
        "# variabel lokal = hanya bisa diakses didalem function"
      ],
      "metadata": {
        "id": "L2xZ3h3YEtKZ"
      },
      "execution_count": null,
      "outputs": []
    },
    {
      "cell_type": "code",
      "source": [
        "# function lambda\n",
        "\n",
        "keliling_lingk5 = lambda r: 2*3.14*r"
      ],
      "metadata": {
        "id": "ws16agYQHgE_"
      },
      "execution_count": null,
      "outputs": []
    },
    {
      "cell_type": "code",
      "source": [
        "keliling_lingk5(2)"
      ],
      "metadata": {
        "colab": {
          "base_uri": "https://localhost:8080/"
        },
        "id": "aezZ_OirHr49",
        "outputId": "61d66ef4-6184-4f3f-a31c-af1335fff384"
      },
      "execution_count": null,
      "outputs": [
        {
          "output_type": "execute_result",
          "data": {
            "text/plain": [
              "12.56"
            ]
          },
          "metadata": {},
          "execution_count": 22
        }
      ]
    },
    {
      "cell_type": "code",
      "source": [
        "keliling_lingk6 = lambda r,phi: 2*phi*r\n",
        "\n",
        "keliling_lingk6(10, 3.14)"
      ],
      "metadata": {
        "colab": {
          "base_uri": "https://localhost:8080/"
        },
        "id": "UR6SJNniHwEe",
        "outputId": "8a0e47e9-68f9-40d3-cf0e-7bb09e3da193"
      },
      "execution_count": null,
      "outputs": [
        {
          "output_type": "execute_result",
          "data": {
            "text/plain": [
              "62.800000000000004"
            ]
          },
          "metadata": {},
          "execution_count": 24
        }
      ]
    },
    {
      "cell_type": "code",
      "source": [
        "keliling_lingk7 = lambda r,phi = 3.14: 2*phi*r\n",
        "\n",
        "keliling_lingk7(10)"
      ],
      "metadata": {
        "colab": {
          "base_uri": "https://localhost:8080/"
        },
        "id": "BjrdFKbVIBzb",
        "outputId": "97aef253-c717-426d-f1e7-5218c76277a9"
      },
      "execution_count": null,
      "outputs": [
        {
          "output_type": "execute_result",
          "data": {
            "text/plain": [
              "62.800000000000004"
            ]
          },
          "metadata": {},
          "execution_count": 25
        }
      ]
    },
    {
      "cell_type": "markdown",
      "source": [
        "challenge \n",
        "- apakah suatu argumen bisa mengisikan untuk simbol aritmatika \n",
        "- buat sebuah function yg menampung 3 argumen:\n",
        "- 2 argumen untuk 2 bilangan yg ingin dioperasikan \n",
        "- 1 argumen menampungkan simbol aritmatika yg diinginkan \n"
      ],
      "metadata": {
        "id": "NlxpJh7PJK9y"
      }
    },
    {
      "cell_type": "code",
      "source": [
        "def aritmatika(i, j, k):\n",
        "  k = eval(f'{i}{k}{j}')\n",
        "  return k"
      ],
      "metadata": {
        "id": "p1QXE0MfJG9w"
      },
      "execution_count": null,
      "outputs": []
    },
    {
      "cell_type": "code",
      "source": [
        "#aritmatika()"
      ],
      "metadata": {
        "id": "M9gvBBPaLF-o"
      },
      "execution_count": null,
      "outputs": []
    },
    {
      "cell_type": "code",
      "source": [
        "#built-in function\n",
        "usia = [3,13,42,45,11,43,54]\n"
      ],
      "metadata": {
        "id": "pXlqH46YLRut"
      },
      "execution_count": null,
      "outputs": []
    },
    {
      "cell_type": "code",
      "source": [
        "min(usia)"
      ],
      "metadata": {
        "colab": {
          "base_uri": "https://localhost:8080/"
        },
        "id": "YE7y4gZCM21Z",
        "outputId": "2a53ee4f-543a-4fb4-d75c-e550493b2348"
      },
      "execution_count": null,
      "outputs": [
        {
          "output_type": "execute_result",
          "data": {
            "text/plain": [
              "3"
            ]
          },
          "metadata": {},
          "execution_count": 38
        }
      ]
    },
    {
      "cell_type": "code",
      "source": [
        "round(22.9)"
      ],
      "metadata": {
        "colab": {
          "base_uri": "https://localhost:8080/"
        },
        "id": "O39pW40UM4sl",
        "outputId": "0557bbab-69b8-4347-ba71-fe2061666999"
      },
      "execution_count": null,
      "outputs": [
        {
          "output_type": "execute_result",
          "data": {
            "text/plain": [
              "23"
            ]
          },
          "metadata": {},
          "execution_count": 39
        }
      ]
    },
    {
      "cell_type": "code",
      "source": [
        "#standard library returns the absolute value of the given number.\n",
        "abs(-29)"
      ],
      "metadata": {
        "colab": {
          "base_uri": "https://localhost:8080/"
        },
        "id": "C51uP3DGNn9t",
        "outputId": "5c2ff744-86ca-4056-e901-e0ac31d495d6"
      },
      "execution_count": null,
      "outputs": [
        {
          "output_type": "execute_result",
          "data": {
            "text/plain": [
              "29"
            ]
          },
          "metadata": {},
          "execution_count": 40
        }
      ]
    },
    {
      "cell_type": "code",
      "source": [
        "#perpangkatan\n",
        "pow(5,2)"
      ],
      "metadata": {
        "colab": {
          "base_uri": "https://localhost:8080/"
        },
        "id": "GstejkNuNrr1",
        "outputId": "a3e16dd4-e2fc-49e6-dfb9-094630b545f4"
      },
      "execution_count": null,
      "outputs": [
        {
          "output_type": "execute_result",
          "data": {
            "text/plain": [
              "25"
            ]
          },
          "metadata": {},
          "execution_count": 41
        }
      ]
    },
    {
      "cell_type": "code",
      "source": [
        "5**2"
      ],
      "metadata": {
        "colab": {
          "base_uri": "https://localhost:8080/"
        },
        "id": "sqZnYxPeOHCH",
        "outputId": "3d3cbaf1-ec8d-4c14-9941-ba09694c2d8c"
      },
      "execution_count": null,
      "outputs": [
        {
          "output_type": "execute_result",
          "data": {
            "text/plain": [
              "25"
            ]
          },
          "metadata": {},
          "execution_count": 42
        }
      ]
    },
    {
      "cell_type": "code",
      "source": [
        "sorted(usia)"
      ],
      "metadata": {
        "colab": {
          "base_uri": "https://localhost:8080/"
        },
        "id": "IhW6bNptOLIz",
        "outputId": "c8d687fd-ea96-4795-b77c-900fc58a35ae"
      },
      "execution_count": null,
      "outputs": [
        {
          "output_type": "execute_result",
          "data": {
            "text/plain": [
              "[3, 11, 13, 42, 43, 45, 54]"
            ]
          },
          "metadata": {},
          "execution_count": 43
        }
      ]
    },
    {
      "cell_type": "code",
      "source": [
        "#pengurutan kebalikan\n",
        "orted(usia, reverse=True)"
      ],
      "metadata": {
        "colab": {
          "base_uri": "https://localhost:8080/"
        },
        "id": "n7BVtS_qOP77",
        "outputId": "81fc244f-a723-483c-c1aa-afcccec88288"
      },
      "execution_count": null,
      "outputs": [
        {
          "output_type": "execute_result",
          "data": {
            "text/plain": [
              "[54, 45, 43, 42, 13, 11, 3]"
            ]
          },
          "metadata": {},
          "execution_count": 44
        }
      ]
    },
    {
      "cell_type": "code",
      "source": [],
      "metadata": {
        "id": "AalkGSoaOVZ4"
      },
      "execution_count": null,
      "outputs": []
    }
  ]
}